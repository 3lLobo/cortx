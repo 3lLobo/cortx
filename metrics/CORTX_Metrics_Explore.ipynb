{
 "cells": [
  {
   "cell_type": "markdown",
   "metadata": {},
   "source": [
    "### Basic Functions for Interactively Exploring the CORTX Metrics Stored in Pickles"
   ]
  },
  {
   "cell_type": "code",
   "execution_count": 5,
   "metadata": {},
   "outputs": [
    {
     "name": "stdout",
     "output_type": "stream",
     "text": [
      "/home/johnbent/cortx/metrics\n"
     ]
    }
   ],
   "source": [
    "%cd /home/johnbent/cortx/metrics\n",
    "import cortx_community\n",
    "import os\n",
    "from github import Github\n",
    "gh = Github(os.environ.get('GH_OATH'))\n",
    "stx = gh.get_organization('Seagate')\n",
    "repos = cortx_community.get_repos()\n",
    "ps = cortx_community.PersistentStats()"
   ]
  },
  {
   "cell_type": "code",
   "execution_count": 6,
   "metadata": {},
   "outputs": [],
   "source": [
    "# a function which can test the progress of a running scrape_metrics.py process\n",
    "def check_scan_progress(date,ps):\n",
    "    done=0\n",
    "    for repo in ps.get_repos():\n",
    "        (a,b)=ps.get_latest(repo)\n",
    "        if b == date:\n",
    "            done+=1\n",
    "    print(\"%d out of %d repos have been scanned\" % (done,len(ps.get_repos())))"
   ]
  },
  {
   "cell_type": "code",
   "execution_count": 11,
   "metadata": {},
   "outputs": [],
   "source": [
    "# a function for comparing a field in a repo over time\n",
    "# for example, if you want to see the change in innersource_committers over time, you can use this function\n",
    "def compare_fields(ps,repo,field,verbose=False):\n",
    "    first = None\n",
    "    last = None\n",
    "    for date in sorted(ps.stats[repo].keys()):\n",
    "        last = ps.stats[repo][date][field]\n",
    "        if first is None:\n",
    "            first = last\n",
    "        if verbose:\n",
    "            print(\"%s -> %s\" % (date, last))\n",
    "    print(\"Difference between first and last is: %s\" % (first-last))\n",
    "    print(\"Difference between last and first is: %s\" % (last-first))"
   ]
  },
  {
   "cell_type": "code",
   "execution_count": 14,
   "metadata": {},
   "outputs": [
    {
     "name": "stdout",
     "output_type": "stream",
     "text": [
      "Difference between first and last is: {'amolkongre', 'gregnsk', 'xahmad'}\n",
      "Difference between last and first is: set()\n"
     ]
    }
   ],
   "source": [
    "compare_fields(ps=ps,repo='cortx',field='innersource_committers',verbose=False)"
   ]
  },
  {
   "cell_type": "code",
   "execution_count": 15,
   "metadata": {},
   "outputs": [
    {
     "name": "stdout",
     "output_type": "stream",
     "text": [
      "Difference between first and last is: {'hemant.raut407@gmail.com', 'sawake.nikhil@gmail.com'}\n",
      "Difference between last and first is: {'byronjones@outlook.com', 'grezboo@gmail.com', 'aaron@heyaaron.com', 'lilinxiong1997@gmail.com', 'eric.yutao@gmail.com', 'liangsibin@gmail.com', 'caoshiwei@gmail.com', 'leonardoprado@gmail.com', 'rogerio.pontes@pm.me', 'david.alpha.fox@gmail.com', 'andreas@gaupmann.net', 'dch@skunkwerks.at', 'i@rainng.com', 'xiena89@gmail.com', 'zenghuanmy@zenghuanmy.com', 'jan@hacker.ch', 'brienarabella@gmail.com', 'linus@andromedarabbit.net', 'pingsivapong@hotmail.com', 'renoir42@yahoo.com', 'ariel.shtul@redislabs.com', 'zhoutong12589@163.com', 'xxhdx1985126@gmail.com', 'dominic097@gmail.com', 'i@4leaf.me', 'plamen.m.petkov@gmail.com', 'my3157@hotmail.com', 'szhilkin@gmail.com', 'wormik@gmail.com', 'james@ustc.edu.cn', 'venkat.crescentian@gmail.com, dominic097@gmail.com', 'github@monster010.de', 'lenz@grimmer.com', 'mikesevilla3@gmail.com', 'bararviv0120@gmai.com', 'matth@danielito.org', 'jiawei1227@pm.me', 'w.stief@gmx.net', 'contact@WilliamMcGann.com', 'Dammian.Miller@gmail.com', 'github@stillwater-sc.com', 'jason@ackley.net', 'gershon@weka.io', 'kevin@kdecherf.com', 'surikov01@icloud.com', 'i@rsplwe.com', 'sora@morimoto.io', 'joseph.melnick@gmail.com', 'pttpzp@hotmail.com', 'https://www.linkedin.com/in/raikrahul/', 'matthew@tldus.com', 'me@mko.io', 'wobey@uncc.edu', 'wanghaoyu@frazil.me', 'niradler55@gmail.com', 'kchai@redhat.com', 'leon.fischer@fygle.eu', 'rhwlyw@163.com', 'iWangJiaXiang@outlook.com'}\n"
     ]
    }
   ],
   "source": [
    "compare_fields(ps=ps,repo='cortx',field='external_email_addresses',verbose=False)"
   ]
  },
  {
   "cell_type": "code",
   "execution_count": 29,
   "metadata": {},
   "outputs": [
    {
     "name": "stdout",
     "output_type": "stream",
     "text": [
      "GLOBAL issues_closed_ave_age_in_s -> 4990879 \n",
      "cortx-ha issues_closed_ave_age_in_s -> 3722564 \n",
      "cortx-hare issues_closed_ave_age_in_s -> 3960006 \n",
      "GLOBAL issues_closed -> 857 \n",
      "cortx-ha issues_closed -> 24 \n",
      "cortx-hare issues_closed -> 572 \n"
     ]
    }
   ],
   "source": [
    "targets=['issues_closed_ave_age_in_s','issues_closed']\n",
    "for target in targets:\n",
    "    for r in ['GLOBAL','cortx-ha','cortx-hare']:\n",
    "        print(\"%s %s -> %d \" % (r, target, ps.stats[r]['2020-12-29'][target]))"
   ]
  },
  {
   "cell_type": "code",
   "execution_count": 17,
   "metadata": {},
   "outputs": [
    {
     "name": "stdout",
     "output_type": "stream",
     "text": [
      "1 out of 19 repos have been scanned\n"
     ]
    }
   ],
   "source": [
    "check_scan_progress('2020-12-30',ps)"
   ]
  },
  {
   "cell_type": "code",
   "execution_count": 32,
   "metadata": {},
   "outputs": [
    {
     "data": {
      "text/plain": [
       "24"
      ]
     },
     "execution_count": 32,
     "metadata": {},
     "output_type": "execute_result"
    }
   ],
   "source": [
    "(a,b)=ps.get_latest('cortx-hare')\n",
    "a['issues_open']"
   ]
  },
  {
   "cell_type": "code",
   "execution_count": null,
   "metadata": {},
   "outputs": [],
   "source": []
  }
 ],
 "metadata": {
  "kernelspec": {
   "display_name": "Python 3",
   "language": "python",
   "name": "python3"
  },
  "language_info": {
   "codemirror_mode": {
    "name": "ipython",
    "version": 3
   },
   "file_extension": ".py",
   "mimetype": "text/x-python",
   "name": "python",
   "nbconvert_exporter": "python",
   "pygments_lexer": "ipython3",
   "version": "3.5.2"
  }
 },
 "nbformat": 4,
 "nbformat_minor": 4
}
