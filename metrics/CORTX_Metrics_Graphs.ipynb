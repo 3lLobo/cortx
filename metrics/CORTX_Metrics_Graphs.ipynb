{
 "cells": [
  {
   "cell_type": "markdown",
   "metadata": {},
   "source": [
    "### Interactive CORTX Metrics Graphs Creation"
   ]
  },
  {
   "cell_type": "code",
   "execution_count": null,
   "metadata": {},
   "outputs": [],
   "source": [
    "%cd /home/johnbent/cortx/metrics\n",
    "import os\n",
    "import pandas as pd\n",
    "import matplotlib\n",
    "import numpy as np\n",
    "import matplotlib.pyplot as plt\n",
    "import cortx_community\n",
    "import cortx_graphing\n",
    "import datetime\n",
    "\n",
    "%matplotlib inline\n",
    "ps=cortx_community.PersistentStats()"
   ]
  },
  {
   "cell_type": "code",
   "execution_count": null,
   "metadata": {},
   "outputs": [],
   "source": [
    "# we currently have a bad scrape in the pickle (i.e. '2020-12-20'); instead of removing it just hide it here\n",
    "def remove_date(df,date):\n",
    "    try:\n",
    "        df=df.drop(date,axis=0) # this first scrape was no good, double counted issues and pulls\n",
    "    except KeyError:\n",
    "        pass # was already dropped\n",
    "    return df"
   ]
  },
  {
   "cell_type": "code",
   "execution_count": null,
   "metadata": {},
   "outputs": [],
   "source": [
    "# turn a repo (e.g. 'cortx-s3server') into a dataframe suitable for plotting\n",
    "def get_dataframe(repo,ps):\n",
    "    return cortx_graphing.get_dataframe(repo,ps)"
   ]
  },
  {
   "cell_type": "code",
   "execution_count": null,
   "metadata": {},
   "outputs": [],
   "source": [
    "# using a dataframe, create a plot of just a subset of its columns\n",
    "def compare_values(repo,ps,targets):\n",
    "    df=get_dataframe(repo,ps)\n",
    "    df[targets].plot(title=\"Repo %s\" % repo)"
   ]
  },
  {
   "cell_type": "code",
   "execution_count": null,
   "metadata": {},
   "outputs": [],
   "source": [
    "# a function that makes a graph showing the count for all repos for a particular field\n",
    "# note that it explicitly filters 'GlOBAL' out\n",
    "def compare_repos(target,ps):\n",
    "    repos=ps.get_repos()\n",
    "    dates=ps.get_dates('cortx')\n",
    "    data={}\n",
    "    for repo in repos:\n",
    "        if repo != 'GLOBAL':\n",
    "            data[repo]=ps.get_values_as_numbers(repo,target,dates)\n",
    "    df=pd.DataFrame(data=data, index=dates)\n",
    "    df=remove_date(df,'2020-12-20')\n",
    "    #print(df)\n",
    "    df.plot(title=target)\n",
    "    plt.legend(loc='center left', bbox_to_anchor=(1, 0.5))\n",
    "    plt.show()"
   ]
  },
  {
   "cell_type": "code",
   "execution_count": null,
   "metadata": {},
   "outputs": [],
   "source": [
    "# adds some new columns to the dataframe doing math on the other and then plots them\n",
    "def compare_merge_rates(repo,ps):\n",
    "    df = get_dataframe(repo,ps)\n",
    "    # make some new columns on the basis of the existing columns\n",
    "    for k in ['external','internal']:\n",
    "        df['%s_merge_rate' % k] = df['pull_requests_%s_merged' % k] / df['pull_requests_%s' % k]\n",
    "    # plot just a few of the columns (the newly created ones)\n",
    "    df[['external_merge_rate','internal_merge_rate']].plot(ylim=(0,1),title=\"Merge Rates for %s\" % repo)"
   ]
  },
  {
   "cell_type": "code",
   "execution_count": null,
   "metadata": {},
   "outputs": [],
   "source": [
    "# for every field in the metrics, make a graph comparing the repos\n",
    "def make_all_graphs_comparing_repos(ps):\n",
    "    (latest,date)=ps.get_latest('cortx')\n",
    "    for k in sorted(latest.keys()):\n",
    "        compare_repos(k,ps)"
   ]
  },
  {
   "cell_type": "code",
   "execution_count": null,
   "metadata": {},
   "outputs": [],
   "source": [
    "compare_merge_rates('GLOBAL',ps)"
   ]
  },
  {
   "cell_type": "code",
   "execution_count": null,
   "metadata": {},
   "outputs": [],
   "source": [
    "compare_values('GLOBAL',ps,['pull_requests','pull_requests_external','pull_requests_internal'])"
   ]
  },
  {
   "cell_type": "code",
   "execution_count": 26,
   "metadata": {
    "tags": [
     "hide-input"
    ]
   },
   "outputs": [
    {
     "data": {
      "image/png": "[encoded data removed]",
      "text/plain": [
       "<Figure size 432x288 with 1 Axes>"
      ]
     },
     "metadata": {
      "needs_background": "light"
     },
     "output_type": "display_data"
    }
   ],
   "source": [
    "df=get_dataframe('GLOBAL',ps)\n",
    "title='Total External Submissions'\n",
    "df[title] = df['pull_requests_external'] + df['issues_external']\n",
    "df=remove_date(df,'2020-12-20')\n",
    "ylim=(0,350)\n",
    "goal_date=datetime.datetime(2021,12,31,0,0,0)\n",
    "xlim=(None,goal_date)\n",
    "df[[title,'pull_requests_external','issues_external']].plot(ylim=ylim,xlim=xlim,title=title)\n",
    "plt.annotate(\"%s Goal\" % title, (goal_date, 300))\n",
    "plt.legend(loc='lower right')\n",
    "plt.show()"
   ]
  },
  {
   "cell_type": "code",
   "execution_count": null,
   "metadata": {
    "tags": [
     "hide-input"
    ]
   },
   "outputs": [],
   "source": [
    "df=get_dataframe('cortx',ps)\n",
    "columns=[]\n",
    "for label, content in df.items():\n",
    "    if 'ave_age_in_s' in label and 'pull' in label and ('external' in label or 'internal' in label) and 'closed' in label:\n",
    "        new_label = label.replace('_in_s','_in_days')\n",
    "        df[new_label] = df[label]/86400\n",
    "        columns.append(new_label)\n",
    "df[columns].plot(ylim=(0,None))\n",
    "plt.legend(loc='center left', bbox_to_anchor=(1, 0.5))\n",
    "plt.show()"
   ]
  },
  {
   "cell_type": "code",
   "execution_count": null,
   "metadata": {},
   "outputs": [],
   "source": [
    "make_all_graphs_comparing_repos(ps)"
   ]
  },
  {
   "cell_type": "code",
   "execution_count": null,
   "metadata": {},
   "outputs": [],
   "source": []
  }
 ],
 "metadata": {
  "kernelspec": {
   "display_name": "Python 3",
   "language": "python",
   "name": "python3"
  },
  "language_info": {
   "codemirror_mode": {
    "name": "ipython",
    "version": 3
   },
   "file_extension": ".py",
   "mimetype": "text/x-python",
   "name": "python",
   "nbconvert_exporter": "python",
   "pygments_lexer": "ipython3",
   "version": "3.5.2"
  }
 },
 "nbformat": 4,
 "nbformat_minor": 4
}
